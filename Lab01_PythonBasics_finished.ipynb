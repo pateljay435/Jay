{
 "cells": [
  {
   "cell_type": "code",
   "execution_count": null,
   "metadata": {},
   "outputs": [],
   "source": [
    "# Lab01 ( 10 points)\n",
    "\n",
    "# 7/8/2019\n",
    "\n",
    "## Python Basic"
   ]
  },
  {
   "cell_type": "markdown",
   "metadata": {},
   "source": [
    "Problem 1 ( 5 pts)\n",
    "\n",
    "pay = salary + bonus\n",
    "\n",
    "Step 1: Get input: salary, bonusrate\n",
    "\n",
    "Step 2: Compute\n",
    "\n",
    "Step 3: Display total pay"
   ]
  },
  {
   "cell_type": "code",
   "execution_count": 1,
   "metadata": {},
   "outputs": [
    {
     "name": "stdout",
     "output_type": "stream",
     "text": [
      "Enter salary: 30000\n",
      "Enter bonus rate: 0.20\n",
      "Your total pay is: 36000.0\n"
     ]
    }
   ],
   "source": [
    "# Input salary\n",
    "salary = float(input('Enter salary: '))\n",
    "\n",
    "# Input bonus rate\n",
    "bonus_rate = float(input('Enter bonus rate: '))\n",
    "\n",
    "# Computer total_pay\n",
    "total_pay = salary* (1+bonus_rate)\n",
    "\n",
    "print('Your total pay is:', total_pay)"
   ]
  },
  {
   "cell_type": "markdown",
   "metadata": {},
   "source": [
    "Problem 2: Age Classifier ( 5 pts)\n",
    "\n",
    "Write a program that ask the user to enter a per's age. The program should display a message indicate whether the person is:\n",
    "infant, child, teenager, or adult.\n",
    "Age \n",
    "         0 - <=1    infant\n",
    "    >1  and <= 13   child\n",
    "    >13 and <= 20   teenager\n",
    "    >20             adult"
   ]
  },
  {
   "cell_type": "code",
   "execution_count": 8,
   "metadata": {},
   "outputs": [
    {
     "name": "stdout",
     "output_type": "stream",
     "text": [
      "Please enter customer age: \n",
      "20\n",
      "teenage\n"
     ]
    }
   ],
   "source": [
    "age = int(input('Please enter customer age: \\n'))\n",
    "\n",
    "label ='**'\n",
    "if age <= 1:\n",
    "    label ='infant'\n",
    "elif age <= 13:\n",
    "    label = 'child'\n",
    "elif age <= 20:\n",
    "    label = 'teenage'\n",
    "else:\n",
    "    label = 'adule'\n",
    "\n",
    "print(label)"
   ]
  },
  {
   "cell_type": "markdown",
   "metadata": {},
   "source": [
    "Problem 3 Use while loop ( 5 pts)\n",
    "\n",
    "Conver speeds 60 kph to 130 kph (in 10 kph increments) to mph"
   ]
  },
  {
   "cell_type": "code",
   "execution_count": 3,
   "metadata": {},
   "outputs": [
    {
     "name": "stdout",
     "output_type": "stream",
     "text": [
      "kph \t mph\n",
      "30 \t 18.0\n",
      "40 \t 24.0\n",
      "50 \t 30.0\n",
      "60 \t 36.0\n",
      "70 \t 42.0\n",
      "80 \t 48.0\n",
      "90 \t 54.0\n",
      "100 \t 60.0\n",
      "110 \t 66.0\n",
      "120 \t 72.0\n",
      "130 \t 78.0\n"
     ]
    }
   ],
   "source": [
    "#Program \n",
    "START =30\n",
    "END = 131\n",
    "CONV = 0.6\n",
    "\n",
    "print('kph \\t mph')\n",
    "for kph in range(START,END,10):\n",
    "    mph = kph*CONV\n",
    "    print(kph, '\\t', format(mph,'.1f'))"
   ]
  },
  {
   "cell_type": "markdown",
   "metadata": {},
   "source": [
    "Program 4 ( 5 pts)\n",
    "\n",
    "Write a for loop to compute the sum of numbers from 1, 2, 3 to 10"
   ]
  },
  {
   "cell_type": "code",
   "execution_count": 2,
   "metadata": {},
   "outputs": [
    {
     "name": "stdout",
     "output_type": "stream",
     "text": [
      "1\n",
      "2\n",
      "3\n",
      "4\n",
      "5\n",
      "6\n",
      "7\n",
      "8\n",
      "9\n",
      "10\n",
      "---------\n",
      "Sum = 55\n"
     ]
    }
   ],
   "source": [
    "\n",
    "\n",
    "sum = 0\n",
    "for num in range(1, 11):\n",
    "    print(num)\n",
    "    sum += num\n",
    "\n",
    "print('---------')\n",
    "print('Sum =',sum)"
   ]
  }
 ],
 "metadata": {
  "kernelspec": {
   "display_name": "Python 3",
   "language": "python",
   "name": "python3"
  },
  "language_info": {
   "codemirror_mode": {
    "name": "ipython",
    "version": 3
   },
   "file_extension": ".py",
   "mimetype": "text/x-python",
   "name": "python",
   "nbconvert_exporter": "python",
   "pygments_lexer": "ipython3",
   "version": "3.7.3"
  }
 },
 "nbformat": 4,
 "nbformat_minor": 2
}
