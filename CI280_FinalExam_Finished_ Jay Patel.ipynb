{
 "cells": [
  {
   "cell_type": "markdown",
   "metadata": {},
   "source": [
    "# East-West University\n",
    "\n",
    "# CI280 Final Exam - 2020 Fall  (100 points)\n",
    "\n",
    "# Student Name:\n",
    "\n",
    "# Student ID:\n"
   ]
  },
  {
   "cell_type": "markdown",
   "metadata": {},
   "source": [
    "### Real Estate Data  Analysis"
   ]
  },
  {
   "cell_type": "code",
   "execution_count": 1,
   "metadata": {},
   "outputs": [],
   "source": [
    "%matplotlib inline\n",
    "import random\n",
    "import pandas as pd\n",
    "import matplotlib.pyplot as plt\n",
    "\n",
    "plt.rc('figure', figsize=(10, 8))"
   ]
  },
  {
   "cell_type": "code",
   "execution_count": 2,
   "metadata": {},
   "outputs": [],
   "source": [
    "# limiting the display rows\n",
    "pd.set_option('display.max_rows', 8)"
   ]
  },
  {
   "cell_type": "code",
   "execution_count": 3,
   "metadata": {},
   "outputs": [
    {
     "name": "stdout",
     "output_type": "stream",
     "text": [
      "(81, 8)\n"
     ]
    },
    {
     "data": {
      "text/html": [
       "<div>\n",
       "<style scoped>\n",
       "    .dataframe tbody tr th:only-of-type {\n",
       "        vertical-align: middle;\n",
       "    }\n",
       "\n",
       "    .dataframe tbody tr th {\n",
       "        vertical-align: top;\n",
       "    }\n",
       "\n",
       "    .dataframe thead th {\n",
       "        text-align: right;\n",
       "    }\n",
       "</style>\n",
       "<table border=\"1\" class=\"dataframe\">\n",
       "  <thead>\n",
       "    <tr style=\"text-align: right;\">\n",
       "      <th></th>\n",
       "      <th>Trans_No</th>\n",
       "      <th>Address</th>\n",
       "      <th>City</th>\n",
       "      <th>Selling_Agent</th>\n",
       "      <th>Asking_Price</th>\n",
       "      <th>Selling_Price</th>\n",
       "      <th>Listing_Date</th>\n",
       "      <th>Sale_Date</th>\n",
       "    </tr>\n",
       "  </thead>\n",
       "  <tbody>\n",
       "    <tr>\n",
       "      <th>0</th>\n",
       "      <td>1</td>\n",
       "      <td>8687 Kenwood Road</td>\n",
       "      <td>Cedar Hills</td>\n",
       "      <td>Hernandez</td>\n",
       "      <td>725000</td>\n",
       "      <td>645250</td>\n",
       "      <td>4/1/2018</td>\n",
       "      <td>6/16/2018</td>\n",
       "    </tr>\n",
       "    <tr>\n",
       "      <th>1</th>\n",
       "      <td>2</td>\n",
       "      <td>11 West Oak Circle</td>\n",
       "      <td>American Fork</td>\n",
       "      <td>Carey</td>\n",
       "      <td>350000</td>\n",
       "      <td>340000</td>\n",
       "      <td>4/1/2018</td>\n",
       "      <td>5/15/2018</td>\n",
       "    </tr>\n",
       "    <tr>\n",
       "      <th>2</th>\n",
       "      <td>3</td>\n",
       "      <td>314 Timp View Drive</td>\n",
       "      <td>American Fork</td>\n",
       "      <td>Goodrich</td>\n",
       "      <td>418000</td>\n",
       "      <td>400000</td>\n",
       "      <td>4/1/2018</td>\n",
       "      <td>6/1/2018</td>\n",
       "    </tr>\n",
       "    <tr>\n",
       "      <th>3</th>\n",
       "      <td>4</td>\n",
       "      <td>614 West Cedar Drive</td>\n",
       "      <td>Lehi</td>\n",
       "      <td>Lugo</td>\n",
       "      <td>215800</td>\n",
       "      <td>200000</td>\n",
       "      <td>4/1/2018</td>\n",
       "      <td>5/25/2018</td>\n",
       "    </tr>\n",
       "    <tr>\n",
       "      <th>...</th>\n",
       "      <td>...</td>\n",
       "      <td>...</td>\n",
       "      <td>...</td>\n",
       "      <td>...</td>\n",
       "      <td>...</td>\n",
       "      <td>...</td>\n",
       "      <td>...</td>\n",
       "      <td>...</td>\n",
       "    </tr>\n",
       "    <tr>\n",
       "      <th>77</th>\n",
       "      <td>78</td>\n",
       "      <td>123 Oak Avenue</td>\n",
       "      <td>American Fork</td>\n",
       "      <td>Carey</td>\n",
       "      <td>400000</td>\n",
       "      <td>400000</td>\n",
       "      <td>6/30/2018</td>\n",
       "      <td>7/15/2018</td>\n",
       "    </tr>\n",
       "    <tr>\n",
       "      <th>78</th>\n",
       "      <td>79</td>\n",
       "      <td>600 Ivy Lane</td>\n",
       "      <td>Eagle Mountain</td>\n",
       "      <td>Pijuan</td>\n",
       "      <td>339999</td>\n",
       "      <td>310000</td>\n",
       "      <td>6/30/2018</td>\n",
       "      <td>10/1/2018</td>\n",
       "    </tr>\n",
       "    <tr>\n",
       "      <th>79</th>\n",
       "      <td>80</td>\n",
       "      <td>144 Oak Avenue</td>\n",
       "      <td>American Fork</td>\n",
       "      <td>Goodrich</td>\n",
       "      <td>380500</td>\n",
       "      <td>365000</td>\n",
       "      <td>6/30/2018</td>\n",
       "      <td>9/1/2018</td>\n",
       "    </tr>\n",
       "    <tr>\n",
       "      <th>80</th>\n",
       "      <td>81</td>\n",
       "      <td>1600 Reeves Street</td>\n",
       "      <td>Cedar Hills</td>\n",
       "      <td>Reuter</td>\n",
       "      <td>245900</td>\n",
       "      <td>233605</td>\n",
       "      <td>6/30/2018</td>\n",
       "      <td>8/16/2018</td>\n",
       "    </tr>\n",
       "  </tbody>\n",
       "</table>\n",
       "<p>81 rows × 8 columns</p>\n",
       "</div>"
      ],
      "text/plain": [
       "    Trans_No               Address            City Selling_Agent  \\\n",
       "0          1     8687 Kenwood Road     Cedar Hills     Hernandez   \n",
       "1          2    11 West Oak Circle   American Fork         Carey   \n",
       "2          3   314 Timp View Drive   American Fork      Goodrich   \n",
       "3          4  614 West Cedar Drive            Lehi          Lugo   \n",
       "..       ...                   ...             ...           ...   \n",
       "77        78        123 Oak Avenue   American Fork         Carey   \n",
       "78        79          600 Ivy Lane  Eagle Mountain        Pijuan   \n",
       "79        80        144 Oak Avenue   American Fork      Goodrich   \n",
       "80        81    1600 Reeves Street     Cedar Hills        Reuter   \n",
       "\n",
       "    Asking_Price  Selling_Price Listing_Date  Sale_Date  \n",
       "0         725000         645250     4/1/2018  6/16/2018  \n",
       "1         350000         340000     4/1/2018  5/15/2018  \n",
       "2         418000         400000     4/1/2018   6/1/2018  \n",
       "3         215800         200000     4/1/2018  5/25/2018  \n",
       "..           ...            ...          ...        ...  \n",
       "77        400000         400000    6/30/2018  7/15/2018  \n",
       "78        339999         310000    6/30/2018  10/1/2018  \n",
       "79        380500         365000    6/30/2018   9/1/2018  \n",
       "80        245900         233605    6/30/2018  8/16/2018  \n",
       "\n",
       "[81 rows x 8 columns]"
      ]
     },
     "execution_count": 3,
     "metadata": {},
     "output_type": "execute_result"
    }
   ],
   "source": [
    "realEstate = pd.read_csv('RealEstate.csv')\n",
    "print(realEstate.shape)\n",
    "realEstate"
   ]
  },
  {
   "cell_type": "markdown",
   "metadata": {},
   "source": [
    "# Part A: Basic Dataframe ( 50 pts)"
   ]
  },
  {
   "cell_type": "code",
   "execution_count": 4,
   "metadata": {},
   "outputs": [
    {
     "name": "stdout",
     "output_type": "stream",
     "text": [
      "Jay Patel , 18945:  98\n",
      "------------------------------\n",
      "\n"
     ]
    },
    {
     "data": {
      "text/plain": [
       "Index(['Trans_No', 'Address', 'City', 'Selling_Agent', 'Asking_Price',\n",
       "       'Selling_Price', 'Listing_Date', 'Sale_Date'],\n",
       "      dtype='object')"
      ]
     },
     "execution_count": 4,
     "metadata": {},
     "output_type": "execute_result"
    }
   ],
   "source": [
    "import random\n",
    "number = random.randint(0,10000)\n",
    "\n",
    "print(\"Jay Patel , 18945: \", number )\n",
    "print('------------------------------\\n')\n",
    "\n",
    "# Problem 1 ( 3 = 3 = 6 pts)\n",
    "\n",
    "# Display datafrome realEstate column names\n",
    "\n",
    "\n",
    "\n",
    "realEstate.columns"
   ]
  },
  {
   "cell_type": "code",
   "execution_count": 5,
   "metadata": {},
   "outputs": [
    {
     "name": "stdout",
     "output_type": "stream",
     "text": [
      "Jay Patel , 18945:  2989\n",
      "------------------------------\n",
      "\n"
     ]
    },
    {
     "data": {
      "text/html": [
       "<div>\n",
       "<style scoped>\n",
       "    .dataframe tbody tr th:only-of-type {\n",
       "        vertical-align: middle;\n",
       "    }\n",
       "\n",
       "    .dataframe tbody tr th {\n",
       "        vertical-align: top;\n",
       "    }\n",
       "\n",
       "    .dataframe thead th {\n",
       "        text-align: right;\n",
       "    }\n",
       "</style>\n",
       "<table border=\"1\" class=\"dataframe\">\n",
       "  <thead>\n",
       "    <tr style=\"text-align: right;\">\n",
       "      <th></th>\n",
       "      <th>Trans_No</th>\n",
       "      <th>City</th>\n",
       "      <th>Asking_Price</th>\n",
       "    </tr>\n",
       "  </thead>\n",
       "  <tbody>\n",
       "    <tr>\n",
       "      <th>0</th>\n",
       "      <td>1</td>\n",
       "      <td>Cedar Hills</td>\n",
       "      <td>725000</td>\n",
       "    </tr>\n",
       "    <tr>\n",
       "      <th>1</th>\n",
       "      <td>2</td>\n",
       "      <td>American Fork</td>\n",
       "      <td>350000</td>\n",
       "    </tr>\n",
       "    <tr>\n",
       "      <th>2</th>\n",
       "      <td>3</td>\n",
       "      <td>American Fork</td>\n",
       "      <td>418000</td>\n",
       "    </tr>\n",
       "    <tr>\n",
       "      <th>3</th>\n",
       "      <td>4</td>\n",
       "      <td>Lehi</td>\n",
       "      <td>215800</td>\n",
       "    </tr>\n",
       "    <tr>\n",
       "      <th>...</th>\n",
       "      <td>...</td>\n",
       "      <td>...</td>\n",
       "      <td>...</td>\n",
       "    </tr>\n",
       "    <tr>\n",
       "      <th>77</th>\n",
       "      <td>78</td>\n",
       "      <td>American Fork</td>\n",
       "      <td>400000</td>\n",
       "    </tr>\n",
       "    <tr>\n",
       "      <th>78</th>\n",
       "      <td>79</td>\n",
       "      <td>Eagle Mountain</td>\n",
       "      <td>339999</td>\n",
       "    </tr>\n",
       "    <tr>\n",
       "      <th>79</th>\n",
       "      <td>80</td>\n",
       "      <td>American Fork</td>\n",
       "      <td>380500</td>\n",
       "    </tr>\n",
       "    <tr>\n",
       "      <th>80</th>\n",
       "      <td>81</td>\n",
       "      <td>Cedar Hills</td>\n",
       "      <td>245900</td>\n",
       "    </tr>\n",
       "  </tbody>\n",
       "</table>\n",
       "<p>81 rows × 3 columns</p>\n",
       "</div>"
      ],
      "text/plain": [
       "    Trans_No            City  Asking_Price\n",
       "0          1     Cedar Hills        725000\n",
       "1          2   American Fork        350000\n",
       "2          3   American Fork        418000\n",
       "3          4            Lehi        215800\n",
       "..       ...             ...           ...\n",
       "77        78   American Fork        400000\n",
       "78        79  Eagle Mountain        339999\n",
       "79        80   American Fork        380500\n",
       "80        81     Cedar Hills        245900\n",
       "\n",
       "[81 rows x 3 columns]"
      ]
     },
     "execution_count": 5,
     "metadata": {},
     "output_type": "execute_result"
    }
   ],
   "source": [
    "number = random.randint(0,10000)\n",
    "print(\"Jay Patel , 18945: \", number )\n",
    "print('------------------------------\\n')\n",
    "\n",
    "# Problem 2. (3 + 3 = 6 points)\n",
    "# Diplay DataFrame realEstate's three columns:  Trans_No , City, Asking_Price\n",
    "\n",
    "realEstate[['Trans_No','City','Asking_Price']]"
   ]
  },
  {
   "cell_type": "code",
   "execution_count": null,
   "metadata": {},
   "outputs": [],
   "source": [
    "#realEstate[realEstate['Selling_Agent']=='Carey']\n",
    "\n",
    "realEstate[(realEstate['Selling_Agent']=='Carey') & (realEstate['Asking_Price']>=300000)]"
   ]
  },
  {
   "cell_type": "code",
   "execution_count": null,
   "metadata": {},
   "outputs": [],
   "source": [
    "number = random.randint(0,10000)\n",
    "print(\"Jay Patel , 18945: \", number )\n",
    "print('------------------------------\\n')\n",
    "\n",
    "\n",
    "# Problem 4. (8 points)\n",
    "# List all realestates sold by agent Carey and Asking_Price is over $300,000\n",
    "\n",
    "\n",
    "\n",
    "\n",
    "\n",
    "\n",
    "realEstate[(realEstate['Selling_Agent']=='Carey') & (realEstate['Asking_Price']>=300000)]"
   ]
  },
  {
   "cell_type": "code",
   "execution_count": null,
   "metadata": {},
   "outputs": [],
   "source": [
    "city = realEstate['City'].unique\n",
    "\n"
   ]
  },
  {
   "cell_type": "code",
   "execution_count": null,
   "metadata": {},
   "outputs": [],
   "source": [
    "number = random.randint(0,10000)\n",
    "print(\"Jay Patel , 18945: \", number )\n",
    "print('------------------------------\\n')\n",
    "\n",
    "\n",
    "# Problem 5. ( 4+4 =8 points)\n",
    "      \n",
    "# Display all Cities and display one city in one line   \n",
    "\n",
    "realEstate['City'].unique\n",
    "\n",
    "\n"
   ]
  },
  {
   "cell_type": "code",
   "execution_count": null,
   "metadata": {},
   "outputs": [],
   "source": [
    "#Q6\n",
    "realEstate.tail()\n",
    "print('\\nThe total number of realestate:',realEstate.shape[0])\n",
    "\n",
    "print('\\nThe highest asking price:',realEstate['Asking_Price'].mean())"
   ]
  },
  {
   "cell_type": "code",
   "execution_count": null,
   "metadata": {},
   "outputs": [],
   "source": [
    "df = realEstate\n",
    "number = random.randint(0,10000)\n",
    "print(\"Jay Patel , 18945: \", number )\n",
    "print('------------------------------\\n')\n",
    "\n",
    "\n",
    "# Problem 6. (14 points)\n",
    "# A) Show the total number of realestate listed in the dataset \n",
    "# C) Display the highest asking price of realestate  \n",
    "# B) Display the average selling price, and average asking prince\n",
    "# D) Compute the percentage of average selling price to asking price \n",
    "\n",
    "\n",
    "\n",
    "\n",
    "print('\\nThe total number of realestate:',realEstate.shape[0])\n",
    "print('\\nThe highest asking price: $',realEstate['Asking_Price'].max())\n",
    "print('\\nAverage Asking Price:  $',realEstate['Asking_Price'].mean())\n",
    "print('\\nAverage Selling Price: $',realEstate['Selling_Price'].mean() )\n",
    "print('\\nThe Percentage of Average Selling price to Average Asking price:',((realEstate['Selling_Price'].mean()/realEstate['Asking_Price'].mean()))*100\n"
   ]
  },
  {
   "cell_type": "markdown",
   "metadata": {},
   "source": [
    "# Part B:  (50 points)"
   ]
  },
  {
   "cell_type": "code",
   "execution_count": null,
   "metadata": {},
   "outputs": [],
   "source": [
    "number = random.randint(0,10000)\n",
    "print(\"Jay Patel , 18945: \", number )\n",
    "print('------------------------------\\n')\n",
    "\n",
    "\n",
    "# Problem 1. ( 8 pts)\n",
    "# Sorting the realestate data by city and Asking price in ascending oreder\n",
    "\n",
    "\n",
    "\n",
    "data = realEstate.sort_values(by=['City'])\n",
    "data.sort_values(by=['Asking_Price'])"
   ]
  },
  {
   "cell_type": "code",
   "execution_count": null,
   "metadata": {},
   "outputs": [],
   "source": [
    "number = random.randint(0,10000)\n",
    "print(\"Jay Patel , 18945: \", number )\n",
    "print('------------------------------\\n')\n",
    "\n",
    "\n",
    "# Problem 2. ( 8 pts)\n",
    "# List three lowest asking price realestate sold in City Lehi\n",
    "\n",
    "\n",
    "data = realEstate[realEstate['City']=='Lehi']\n",
    "data.sort_values(by=['Asking_Price']).head(3)\n",
    "\n",
    "\n"
   ]
  },
  {
   "cell_type": "code",
   "execution_count": null,
   "metadata": {},
   "outputs": [],
   "source": [
    "number = random.randint(0,10000)\n",
    "print(\"You name , id: \", number )\n",
    "print('------------------------------\\n')\n",
    "\n",
    "#  Problem 3. ( 10 pts)\n",
    "\n",
    "#  Show the average selling price of real estate sold by agent Goodrich\n",
    "#  Is its average selling price above or below the average selling price of all realstates?\n",
    "\n",
    "\n",
    "\n",
    "\n",
    "data1 = realEstate[realEstate['Selling_Agent']=='Goodrich']\n",
    "SP = data1['Selling_Price'].mean()\n",
    "print('Average Selling Price by Agent Goodrich is:  $',SP )\n",
    "\n",
    "\n",
    "\n",
    "print('Average Selling Price by all agents is:  $',realEstate['Selling_Price'].mean() )\n",
    "\n",
    "\n",
    "if data1['Selling_Price'].mean() < realEstate['Selling_Price'].mean():\n",
    "    print('The average selling price from agent Goodrich is below the average selling price from all gent')\n",
    "else:\n",
    "     print('The average selling price from agent Goodrich is above the average selling price from all gent')\n"
   ]
  },
  {
   "cell_type": "code",
   "execution_count": null,
   "metadata": {},
   "outputs": [],
   "source": [
    "number = random.randint(0,10000)\n",
    "print(\"Jay Patel , 18945: \", number )\n",
    "print('------------------------------')\n",
    "\n",
    "\n",
    "# Problem 4. ( 14 pts)\n",
    "# Display and plot the average Asking Price in each city in ascending ording. \n",
    "\n",
    "df = realEstate.groupby(['City'],as_index=False).mean().groupby('City')['Asking_Price'].mean()\n",
    "df.sort_values().plot(kind='bar')\n"
   ]
  },
  {
   "cell_type": "code",
   "execution_count": null,
   "metadata": {},
   "outputs": [],
   "source": [
    "# Problem 5. ( 10 pt)\n",
    "# Show the real estate number of each agent,\n",
    "# and sorted by the agent name\n",
    "# And plot the result as bar chart\n",
    "\n",
    "\n",
    "\n"
   ]
  }
 ],
 "metadata": {
  "kernelspec": {
   "display_name": "Python 3",
   "language": "python",
   "name": "python3"
  },
  "language_info": {
   "codemirror_mode": {
    "name": "ipython",
    "version": 3
   },
   "file_extension": ".py",
   "mimetype": "text/x-python",
   "name": "python",
   "nbconvert_exporter": "python",
   "pygments_lexer": "ipython3",
   "version": "3.8.5"
  }
 },
 "nbformat": 4,
 "nbformat_minor": 2
}
